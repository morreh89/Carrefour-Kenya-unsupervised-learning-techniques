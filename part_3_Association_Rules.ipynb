{
  "nbformat": 4,
  "nbformat_minor": 0,
  "metadata": {
    "colab": {
      "name": "part 3: Association Rules",
      "provenance": [],
      "toc_visible": true,
      "authorship_tag": "ABX9TyOJU08QCC+JFRWeIJp4lvkN",
      "include_colab_link": true
    },
    "kernelspec": {
      "name": "ir",
      "display_name": "R"
    }
  },
  "cells": [
    {
      "cell_type": "markdown",
      "metadata": {
        "id": "view-in-github",
        "colab_type": "text"
      },
      "source": [
        "<a href=\"https://colab.research.google.com/github/morreh89/Carrefour-Kenya-unsupervised-learning-techniques/blob/main/part_3_Association_Rules.ipynb\" target=\"_parent\"><img src=\"https://colab.research.google.com/assets/colab-badge.svg\" alt=\"Open In Colab\"/></a>"
      ]
    },
    {
      "cell_type": "markdown",
      "metadata": {
        "id": "1Ly3DuMqWHCq"
      },
      "source": [
        "# Part 3: Association Rules\n",
        "This section will require that you create association rules that will allow you to identify relationships between variables in the dataset. You are provided with a separate dataset that comprises groups of items that will be associated with others. Just like in the other sections, you will also be required to provide insights for your analysis."
      ]
    },
    {
      "cell_type": "code",
      "metadata": {
        "id": "TDNEb5IzV_g7",
        "outputId": "6b36ecbf-1c92-463a-fe51-77cb17426a12",
        "colab": {
          "base_uri": "https://localhost:8080/"
        }
      },
      "source": [
        "# loading the arules library\n",
        "install.packages(\"arules\")\n",
        "library(arules)"
      ],
      "execution_count": 2,
      "outputs": [
        {
          "output_type": "stream",
          "text": [
            "Installing package into ‘/usr/local/lib/R/site-library’\n",
            "(as ‘lib’ is unspecified)\n",
            "\n",
            "Loading required package: Matrix\n",
            "\n",
            "\n",
            "Attaching package: ‘arules’\n",
            "\n",
            "\n",
            "The following objects are masked from ‘package:base’:\n",
            "\n",
            "    abbreviate, write\n",
            "\n",
            "\n"
          ],
          "name": "stderr"
        }
      ]
    },
    {
      "cell_type": "code",
      "metadata": {
        "id": "xiiaXMK4XWNG",
        "outputId": "54cbf96f-a1ce-466e-c045-431f2cb6cf4c",
        "colab": {
          "base_uri": "https://localhost:8080/",
          "height": 270
        }
      },
      "source": [
        "df_assoc = read.csv('Supermarket_Sales.csv')\n",
        "tail(df_assoc)"
      ],
      "execution_count": 5,
      "outputs": [
        {
          "output_type": "display_data",
          "data": {
            "text/plain": [
              "     shrimp   almonds           avocado     vegetables.mix green.grapes\n",
              "7495 pancakes light mayo                                               \n",
              "7496 butter   light mayo        fresh bread                            \n",
              "7497 burgers  frozen vegetables eggs        french fries   magazines   \n",
              "7498 chicken                                                           \n",
              "7499 escalope green tea                                                \n",
              "7500 eggs     frozen smoothie   yogurt cake low fat yogurt             \n",
              "     whole.weat.flour yams cottage.cheese energy.drink tomato.juice\n",
              "7495                                                               \n",
              "7496                                                               \n",
              "7497 green tea                                                     \n",
              "7498                                                               \n",
              "7499                                                               \n",
              "7500                                                               \n",
              "     low.fat.yogurt green.tea honey salad mineral.water salmon\n",
              "7495                                                          \n",
              "7496                                                          \n",
              "7497                                                          \n",
              "7498                                                          \n",
              "7499                                                          \n",
              "7500                                                          \n",
              "     antioxydant.juice frozen.smoothie spinach olive.oil\n",
              "7495                                           NA       \n",
              "7496                                           NA       \n",
              "7497                                           NA       \n",
              "7498                                           NA       \n",
              "7499                                           NA       \n",
              "7500                                           NA       "
            ],
            "text/latex": "A data.frame: 6 × 20\n\\begin{tabular}{r|llllllllllllllllllll}\n  & shrimp & almonds & avocado & vegetables.mix & green.grapes & whole.weat.flour & yams & cottage.cheese & energy.drink & tomato.juice & low.fat.yogurt & green.tea & honey & salad & mineral.water & salmon & antioxydant.juice & frozen.smoothie & spinach & olive.oil\\\\\n  & <chr> & <chr> & <chr> & <chr> & <chr> & <chr> & <chr> & <chr> & <chr> & <chr> & <chr> & <chr> & <chr> & <chr> & <chr> & <chr> & <chr> & <chr> & <chr> & <lgl>\\\\\n\\hline\n\t7495 & pancakes & light mayo        &             &                &           &           &  &  &  &  &  &  &  &  &  &  &  &  &  & NA\\\\\n\t7496 & butter   & light mayo        & fresh bread &                &           &           &  &  &  &  &  &  &  &  &  &  &  &  &  & NA\\\\\n\t7497 & burgers  & frozen vegetables & eggs        & french fries   & magazines & green tea &  &  &  &  &  &  &  &  &  &  &  &  &  & NA\\\\\n\t7498 & chicken  &                   &             &                &           &           &  &  &  &  &  &  &  &  &  &  &  &  &  & NA\\\\\n\t7499 & escalope & green tea         &             &                &           &           &  &  &  &  &  &  &  &  &  &  &  &  &  & NA\\\\\n\t7500 & eggs     & frozen smoothie   & yogurt cake & low fat yogurt &           &           &  &  &  &  &  &  &  &  &  &  &  &  &  & NA\\\\\n\\end{tabular}\n",
            "text/markdown": "\nA data.frame: 6 × 20\n\n| <!--/--> | shrimp &lt;chr&gt; | almonds &lt;chr&gt; | avocado &lt;chr&gt; | vegetables.mix &lt;chr&gt; | green.grapes &lt;chr&gt; | whole.weat.flour &lt;chr&gt; | yams &lt;chr&gt; | cottage.cheese &lt;chr&gt; | energy.drink &lt;chr&gt; | tomato.juice &lt;chr&gt; | low.fat.yogurt &lt;chr&gt; | green.tea &lt;chr&gt; | honey &lt;chr&gt; | salad &lt;chr&gt; | mineral.water &lt;chr&gt; | salmon &lt;chr&gt; | antioxydant.juice &lt;chr&gt; | frozen.smoothie &lt;chr&gt; | spinach &lt;chr&gt; | olive.oil &lt;lgl&gt; |\n|---|---|---|---|---|---|---|---|---|---|---|---|---|---|---|---|---|---|---|---|---|\n| 7495 | pancakes | light mayo        | <!----> | <!----> | <!----> | <!----> | <!----> | <!----> | <!----> | <!----> | <!----> | <!----> | <!----> | <!----> | <!----> | <!----> | <!----> | <!----> | <!----> | NA |\n| 7496 | butter   | light mayo        | fresh bread | <!----> | <!----> | <!----> | <!----> | <!----> | <!----> | <!----> | <!----> | <!----> | <!----> | <!----> | <!----> | <!----> | <!----> | <!----> | <!----> | NA |\n| 7497 | burgers  | frozen vegetables | eggs        | french fries   | magazines | green tea | <!----> | <!----> | <!----> | <!----> | <!----> | <!----> | <!----> | <!----> | <!----> | <!----> | <!----> | <!----> | <!----> | NA |\n| 7498 | chicken  | <!----> | <!----> | <!----> | <!----> | <!----> | <!----> | <!----> | <!----> | <!----> | <!----> | <!----> | <!----> | <!----> | <!----> | <!----> | <!----> | <!----> | <!----> | NA |\n| 7499 | escalope | green tea         | <!----> | <!----> | <!----> | <!----> | <!----> | <!----> | <!----> | <!----> | <!----> | <!----> | <!----> | <!----> | <!----> | <!----> | <!----> | <!----> | <!----> | NA |\n| 7500 | eggs     | frozen smoothie   | yogurt cake | low fat yogurt | <!----> | <!----> | <!----> | <!----> | <!----> | <!----> | <!----> | <!----> | <!----> | <!----> | <!----> | <!----> | <!----> | <!----> | <!----> | NA |\n\n",
            "text/html": [
              "<table>\n",
              "<caption>A data.frame: 6 × 20</caption>\n",
              "<thead>\n",
              "\t<tr><th></th><th scope=col>shrimp</th><th scope=col>almonds</th><th scope=col>avocado</th><th scope=col>vegetables.mix</th><th scope=col>green.grapes</th><th scope=col>whole.weat.flour</th><th scope=col>yams</th><th scope=col>cottage.cheese</th><th scope=col>energy.drink</th><th scope=col>tomato.juice</th><th scope=col>low.fat.yogurt</th><th scope=col>green.tea</th><th scope=col>honey</th><th scope=col>salad</th><th scope=col>mineral.water</th><th scope=col>salmon</th><th scope=col>antioxydant.juice</th><th scope=col>frozen.smoothie</th><th scope=col>spinach</th><th scope=col>olive.oil</th></tr>\n",
              "\t<tr><th></th><th scope=col>&lt;chr&gt;</th><th scope=col>&lt;chr&gt;</th><th scope=col>&lt;chr&gt;</th><th scope=col>&lt;chr&gt;</th><th scope=col>&lt;chr&gt;</th><th scope=col>&lt;chr&gt;</th><th scope=col>&lt;chr&gt;</th><th scope=col>&lt;chr&gt;</th><th scope=col>&lt;chr&gt;</th><th scope=col>&lt;chr&gt;</th><th scope=col>&lt;chr&gt;</th><th scope=col>&lt;chr&gt;</th><th scope=col>&lt;chr&gt;</th><th scope=col>&lt;chr&gt;</th><th scope=col>&lt;chr&gt;</th><th scope=col>&lt;chr&gt;</th><th scope=col>&lt;chr&gt;</th><th scope=col>&lt;chr&gt;</th><th scope=col>&lt;chr&gt;</th><th scope=col>&lt;lgl&gt;</th></tr>\n",
              "</thead>\n",
              "<tbody>\n",
              "\t<tr><th scope=row>7495</th><td>pancakes</td><td>light mayo       </td><td>           </td><td>              </td><td>         </td><td>         </td><td></td><td></td><td></td><td></td><td></td><td></td><td></td><td></td><td></td><td></td><td></td><td></td><td></td><td>NA</td></tr>\n",
              "\t<tr><th scope=row>7496</th><td>butter  </td><td>light mayo       </td><td>fresh bread</td><td>              </td><td>         </td><td>         </td><td></td><td></td><td></td><td></td><td></td><td></td><td></td><td></td><td></td><td></td><td></td><td></td><td></td><td>NA</td></tr>\n",
              "\t<tr><th scope=row>7497</th><td>burgers </td><td>frozen vegetables</td><td>eggs       </td><td>french fries  </td><td>magazines</td><td>green tea</td><td></td><td></td><td></td><td></td><td></td><td></td><td></td><td></td><td></td><td></td><td></td><td></td><td></td><td>NA</td></tr>\n",
              "\t<tr><th scope=row>7498</th><td>chicken </td><td>                 </td><td>           </td><td>              </td><td>         </td><td>         </td><td></td><td></td><td></td><td></td><td></td><td></td><td></td><td></td><td></td><td></td><td></td><td></td><td></td><td>NA</td></tr>\n",
              "\t<tr><th scope=row>7499</th><td>escalope</td><td>green tea        </td><td>           </td><td>              </td><td>         </td><td>         </td><td></td><td></td><td></td><td></td><td></td><td></td><td></td><td></td><td></td><td></td><td></td><td></td><td></td><td>NA</td></tr>\n",
              "\t<tr><th scope=row>7500</th><td>eggs    </td><td>frozen smoothie  </td><td>yogurt cake</td><td>low fat yogurt</td><td>         </td><td>         </td><td></td><td></td><td></td><td></td><td></td><td></td><td></td><td></td><td></td><td></td><td></td><td></td><td></td><td>NA</td></tr>\n",
              "</tbody>\n",
              "</table>\n"
            ]
          },
          "metadata": {
            "tags": []
          }
        }
      ]
    },
    {
      "cell_type": "code",
      "metadata": {
        "id": "N7begs-xX1Bn",
        "outputId": "db585616-0281-4666-ef43-c7b482c65ff3",
        "colab": {
          "base_uri": "https://localhost:8080/",
          "height": 34
        }
      },
      "source": [
        "# Data dimensions\n",
        "dim(df_assoc)"
      ],
      "execution_count": 6,
      "outputs": [
        {
          "output_type": "display_data",
          "data": {
            "text/plain": [
              "[1] 7500   20"
            ],
            "text/latex": "\\begin{enumerate*}\n\\item 7500\n\\item 20\n\\end{enumerate*}\n",
            "text/markdown": "1. 7500\n2. 20\n\n\n",
            "text/html": [
              "<style>\n",
              ".list-inline {list-style: none; margin:0; padding: 0}\n",
              ".list-inline>li {display: inline-block}\n",
              ".list-inline>li:not(:last-child)::after {content: \"\\00b7\"; padding: 0 .5ex}\n",
              "</style>\n",
              "<ol class=list-inline><li>7500</li><li>20</li></ol>\n"
            ]
          },
          "metadata": {
            "tags": []
          }
        }
      ]
    },
    {
      "cell_type": "markdown",
      "metadata": {
        "id": "sAu-xhaOYZWx"
      },
      "source": [
        "Checking the data structure"
      ]
    },
    {
      "cell_type": "code",
      "metadata": {
        "id": "a2Ksz0p7YXRA",
        "outputId": "146804d0-cbcc-445e-ecb5-66ed785017c2",
        "colab": {
          "base_uri": "https://localhost:8080/"
        }
      },
      "source": [
        "#Structure\n",
        "str(df_assoc)"
      ],
      "execution_count": 7,
      "outputs": [
        {
          "output_type": "stream",
          "text": [
            "'data.frame':\t7500 obs. of  20 variables:\n",
            " $ shrimp           : chr  \"burgers\" \"chutney\" \"turkey\" \"mineral water\" ...\n",
            " $ almonds          : chr  \"meatballs\" \"\" \"avocado\" \"milk\" ...\n",
            " $ avocado          : chr  \"eggs\" \"\" \"\" \"energy bar\" ...\n",
            " $ vegetables.mix   : chr  \"\" \"\" \"\" \"whole wheat rice\" ...\n",
            " $ green.grapes     : chr  \"\" \"\" \"\" \"green tea\" ...\n",
            " $ whole.weat.flour : chr  \"\" \"\" \"\" \"\" ...\n",
            " $ yams             : chr  \"\" \"\" \"\" \"\" ...\n",
            " $ cottage.cheese   : chr  \"\" \"\" \"\" \"\" ...\n",
            " $ energy.drink     : chr  \"\" \"\" \"\" \"\" ...\n",
            " $ tomato.juice     : chr  \"\" \"\" \"\" \"\" ...\n",
            " $ low.fat.yogurt   : chr  \"\" \"\" \"\" \"\" ...\n",
            " $ green.tea        : chr  \"\" \"\" \"\" \"\" ...\n",
            " $ honey            : chr  \"\" \"\" \"\" \"\" ...\n",
            " $ salad            : chr  \"\" \"\" \"\" \"\" ...\n",
            " $ mineral.water    : chr  \"\" \"\" \"\" \"\" ...\n",
            " $ salmon           : chr  \"\" \"\" \"\" \"\" ...\n",
            " $ antioxydant.juice: chr  \"\" \"\" \"\" \"\" ...\n",
            " $ frozen.smoothie  : chr  \"\" \"\" \"\" \"\" ...\n",
            " $ spinach          : chr  \"\" \"\" \"\" \"\" ...\n",
            " $ olive.oil        : logi  NA NA NA NA NA NA ...\n"
          ],
          "name": "stdout"
        }
      ]
    },
    {
      "cell_type": "markdown",
      "metadata": {
        "id": "KadpidwRY_Es"
      },
      "source": [
        "19 columns are factors while 1 is a logical data type"
      ]
    },
    {
      "cell_type": "code",
      "metadata": {
        "id": "L-cVLS52Y2Zq",
        "outputId": "cad66217-8c89-44e6-db9c-c17570e53d4c",
        "colab": {
          "base_uri": "https://localhost:8080/",
          "height": 372
        }
      },
      "source": [
        "# Summary to show information such as the most purchased items,no. of items purchased in each transaction etc\n",
        "summary(df_assoc)"
      ],
      "execution_count": 8,
      "outputs": [
        {
          "output_type": "display_data",
          "data": {
            "text/plain": [
              "    shrimp            almonds            avocado          vegetables.mix    \n",
              " Length:7500        Length:7500        Length:7500        Length:7500       \n",
              " Class :character   Class :character   Class :character   Class :character  \n",
              " Mode  :character   Mode  :character   Mode  :character   Mode  :character  \n",
              " green.grapes       whole.weat.flour       yams           cottage.cheese    \n",
              " Length:7500        Length:7500        Length:7500        Length:7500       \n",
              " Class :character   Class :character   Class :character   Class :character  \n",
              " Mode  :character   Mode  :character   Mode  :character   Mode  :character  \n",
              " energy.drink       tomato.juice       low.fat.yogurt      green.tea        \n",
              " Length:7500        Length:7500        Length:7500        Length:7500       \n",
              " Class :character   Class :character   Class :character   Class :character  \n",
              " Mode  :character   Mode  :character   Mode  :character   Mode  :character  \n",
              "    honey              salad           mineral.water         salmon         \n",
              " Length:7500        Length:7500        Length:7500        Length:7500       \n",
              " Class :character   Class :character   Class :character   Class :character  \n",
              " Mode  :character   Mode  :character   Mode  :character   Mode  :character  \n",
              " antioxydant.juice  frozen.smoothie      spinach          olive.oil     \n",
              " Length:7500        Length:7500        Length:7500        Mode:logical  \n",
              " Class :character   Class :character   Class :character   NA's:7500     \n",
              " Mode  :character   Mode  :character   Mode  :character                 "
            ]
          },
          "metadata": {
            "tags": []
          }
        }
      ]
    },
    {
      "cell_type": "markdown",
      "metadata": {
        "id": "YjKfx7N2aVB1"
      },
      "source": [
        "Checking for missing values"
      ]
    },
    {
      "cell_type": "code",
      "metadata": {
        "id": "yoteJSZOZD7i",
        "outputId": "1011ff9d-7333-4410-ff28-232313610236",
        "colab": {
          "base_uri": "https://localhost:8080/",
          "height": 84
        }
      },
      "source": [
        "# Count the missing values\n",
        "colSums(is.na(df_assoc))"
      ],
      "execution_count": 9,
      "outputs": [
        {
          "output_type": "display_data",
          "data": {
            "text/plain": [
              "           shrimp           almonds           avocado    vegetables.mix \n",
              "                0                 0                 0                 0 \n",
              "     green.grapes  whole.weat.flour              yams    cottage.cheese \n",
              "                0                 0                 0                 0 \n",
              "     energy.drink      tomato.juice    low.fat.yogurt         green.tea \n",
              "                0                 0                 0                 0 \n",
              "            honey             salad     mineral.water            salmon \n",
              "                0                 0                 0                 0 \n",
              "antioxydant.juice   frozen.smoothie           spinach         olive.oil \n",
              "                0                 0                 0              7500 "
            ],
            "text/latex": "\\begin{description*}\n\\item[shrimp] 0\n\\item[almonds] 0\n\\item[avocado] 0\n\\item[vegetables.mix] 0\n\\item[green.grapes] 0\n\\item[whole.weat.flour] 0\n\\item[yams] 0\n\\item[cottage.cheese] 0\n\\item[energy.drink] 0\n\\item[tomato.juice] 0\n\\item[low.fat.yogurt] 0\n\\item[green.tea] 0\n\\item[honey] 0\n\\item[salad] 0\n\\item[mineral.water] 0\n\\item[salmon] 0\n\\item[antioxydant.juice] 0\n\\item[frozen.smoothie] 0\n\\item[spinach] 0\n\\item[olive.oil] 7500\n\\end{description*}\n",
            "text/markdown": "shrimp\n:   0almonds\n:   0avocado\n:   0vegetables.mix\n:   0green.grapes\n:   0whole.weat.flour\n:   0yams\n:   0cottage.cheese\n:   0energy.drink\n:   0tomato.juice\n:   0low.fat.yogurt\n:   0green.tea\n:   0honey\n:   0salad\n:   0mineral.water\n:   0salmon\n:   0antioxydant.juice\n:   0frozen.smoothie\n:   0spinach\n:   0olive.oil\n:   7500\n\n",
            "text/html": [
              "<style>\n",
              ".dl-inline {width: auto; margin:0; padding: 0}\n",
              ".dl-inline>dt, .dl-inline>dd {float: none; width: auto; display: inline-block}\n",
              ".dl-inline>dt::after {content: \":\\0020\"; padding-right: .5ex}\n",
              ".dl-inline>dt:not(:first-of-type) {padding-left: .5ex}\n",
              "</style><dl class=dl-inline><dt>shrimp</dt><dd>0</dd><dt>almonds</dt><dd>0</dd><dt>avocado</dt><dd>0</dd><dt>vegetables.mix</dt><dd>0</dd><dt>green.grapes</dt><dd>0</dd><dt>whole.weat.flour</dt><dd>0</dd><dt>yams</dt><dd>0</dd><dt>cottage.cheese</dt><dd>0</dd><dt>energy.drink</dt><dd>0</dd><dt>tomato.juice</dt><dd>0</dd><dt>low.fat.yogurt</dt><dd>0</dd><dt>green.tea</dt><dd>0</dd><dt>honey</dt><dd>0</dd><dt>salad</dt><dd>0</dd><dt>mineral.water</dt><dd>0</dd><dt>salmon</dt><dd>0</dd><dt>antioxydant.juice</dt><dd>0</dd><dt>frozen.smoothie</dt><dd>0</dd><dt>spinach</dt><dd>0</dd><dt>olive.oil</dt><dd>7500</dd></dl>\n"
            ]
          },
          "metadata": {
            "tags": []
          }
        }
      ]
    },
    {
      "cell_type": "markdown",
      "metadata": {
        "id": "9sRH20i0azyV"
      },
      "source": [
        "Olive oil column has missing values so it will be dropped"
      ]
    },
    {
      "cell_type": "code",
      "metadata": {
        "id": "2gu9L4ssaboP"
      },
      "source": [
        "# Drop olive oil column from dataframe\n",
        "df_assoc$olive.oil <- NULL"
      ],
      "execution_count": 10,
      "outputs": []
    },
    {
      "cell_type": "code",
      "metadata": {
        "id": "Ys_WsRYya9He",
        "outputId": "781199a3-a7b4-4635-82dd-6cc1df2f24eb",
        "colab": {
          "base_uri": "https://localhost:8080/"
        }
      },
      "source": [
        "# Verify that column is successfully dropped\n",
        "str(df_assoc)"
      ],
      "execution_count": 11,
      "outputs": [
        {
          "output_type": "stream",
          "text": [
            "'data.frame':\t7500 obs. of  19 variables:\n",
            " $ shrimp           : chr  \"burgers\" \"chutney\" \"turkey\" \"mineral water\" ...\n",
            " $ almonds          : chr  \"meatballs\" \"\" \"avocado\" \"milk\" ...\n",
            " $ avocado          : chr  \"eggs\" \"\" \"\" \"energy bar\" ...\n",
            " $ vegetables.mix   : chr  \"\" \"\" \"\" \"whole wheat rice\" ...\n",
            " $ green.grapes     : chr  \"\" \"\" \"\" \"green tea\" ...\n",
            " $ whole.weat.flour : chr  \"\" \"\" \"\" \"\" ...\n",
            " $ yams             : chr  \"\" \"\" \"\" \"\" ...\n",
            " $ cottage.cheese   : chr  \"\" \"\" \"\" \"\" ...\n",
            " $ energy.drink     : chr  \"\" \"\" \"\" \"\" ...\n",
            " $ tomato.juice     : chr  \"\" \"\" \"\" \"\" ...\n",
            " $ low.fat.yogurt   : chr  \"\" \"\" \"\" \"\" ...\n",
            " $ green.tea        : chr  \"\" \"\" \"\" \"\" ...\n",
            " $ honey            : chr  \"\" \"\" \"\" \"\" ...\n",
            " $ salad            : chr  \"\" \"\" \"\" \"\" ...\n",
            " $ mineral.water    : chr  \"\" \"\" \"\" \"\" ...\n",
            " $ salmon           : chr  \"\" \"\" \"\" \"\" ...\n",
            " $ antioxydant.juice: chr  \"\" \"\" \"\" \"\" ...\n",
            " $ frozen.smoothie  : chr  \"\" \"\" \"\" \"\" ...\n",
            " $ spinach          : chr  \"\" \"\" \"\" \"\" ...\n"
          ],
          "name": "stdout"
        }
      ]
    },
    {
      "cell_type": "markdown",
      "metadata": {
        "id": "MOpJvqFGbIEo"
      },
      "source": [
        "Checking items frequency"
      ]
    },
    {
      "cell_type": "code",
      "metadata": {
        "id": "BHmi0GO-bAOn",
        "outputId": "028c02a0-0f1d-46a6-d2c5-a03fa176eb4e",
        "colab": {
          "base_uri": "https://localhost:8080/",
          "height": 493
        }
      },
      "source": [
        "## Create an item frequency plot for the top 25 items\n",
        "# coerce data frame into transaction. Plotting the dataframe directly fails\n",
        "trans <- as(df_assoc, \"transactions\")\n",
        "# plot item frequency\n",
        "itemFrequencyPlot(trans,topN=25,type=\"absolute\")"
      ],
      "execution_count": 16,
      "outputs": [
        {
          "output_type": "stream",
          "text": [
            "Warning message:\n",
            "“Column(s) 1, 2, 3, 4, 5, 6, 7, 8, 9, 10, 11, 12, 13, 14, 15, 16, 17, 18, 19 not logical or factor. Applying default discretization (see '? discretizeDF').”\n"
          ],
          "name": "stderr"
        },
        {
          "output_type": "display_data",
          "data": {
            "image/png": "[encoded data removed]",
            "text/plain": [
              "plot without title"
            ]
          },
          "metadata": {
            "tags": [],
            "image/png": {
              "width": 420,
              "height": 420
            }
          }
        }
      ]
    },
    {
      "cell_type": "markdown",
      "metadata": {
        "id": "5k_6WoZubtQK"
      },
      "source": [
        "Spinach, antioxydant.juice, frozen.smoothie, salmon, mineral water are the top 5 items in terms of frequency being over 7000. \n",
        "Shrimp=chocolate and avocado=mineral water are the lowest"
      ]
    },
    {
      "cell_type": "markdown",
      "metadata": {
        "id": "AWrh8DU6cNUi"
      },
      "source": [
        "### Run Association rules"
      ]
    },
    {
      "cell_type": "code",
      "metadata": {
        "id": "xy47c1brbOe4",
        "outputId": "54cef9bb-265b-4168-c50d-b3a8fdfc9f99",
        "colab": {
          "base_uri": "https://localhost:8080/"
        }
      },
      "source": [
        "install.packages(\"arules\") # For association rules library \n",
        "library(arules)\n",
        "install.packages(\"arulesViz\")\n",
        "library(arulesViz)"
      ],
      "execution_count": 17,
      "outputs": [
        {
          "output_type": "stream",
          "text": [
            "Installing package into ‘/usr/local/lib/R/site-library’\n",
            "(as ‘lib’ is unspecified)\n",
            "\n",
            "Installing package into ‘/usr/local/lib/R/site-library’\n",
            "(as ‘lib’ is unspecified)\n",
            "\n",
            "also installing the dependencies ‘iterators’, ‘gridExtra’, ‘bitops’, ‘zoo’, ‘foreach’, ‘viridis’, ‘gtools’, ‘caTools’, ‘lmtest’, ‘TSP’, ‘qap’, ‘gclus’, ‘dendextend’, ‘gplots’, ‘registry’, ‘hexbin’, ‘data.table’, ‘scatterplot3d’, ‘vcd’, ‘seriation’, ‘igraph’, ‘plotly’, ‘visNetwork’\n",
            "\n",
            "\n",
            "Loading required package: grid\n",
            "\n"
          ],
          "name": "stderr"
        }
      ]
    },
    {
      "cell_type": "code",
      "metadata": {
        "id": "u8t0r4-dcYNc",
        "outputId": "e15fa30f-1c58-4994-99bd-d667d12c5935",
        "colab": {
          "base_uri": "https://localhost:8080/",
          "height": 270
        }
      },
      "source": [
        "df_assoc = read.csv('Supermarket_Sales.csv')\n",
        "tail(df_assoc)"
      ],
      "execution_count": 18,
      "outputs": [
        {
          "output_type": "display_data",
          "data": {
            "text/plain": [
              "     shrimp   almonds           avocado     vegetables.mix green.grapes\n",
              "7495 pancakes light mayo                                               \n",
              "7496 butter   light mayo        fresh bread                            \n",
              "7497 burgers  frozen vegetables eggs        french fries   magazines   \n",
              "7498 chicken                                                           \n",
              "7499 escalope green tea                                                \n",
              "7500 eggs     frozen smoothie   yogurt cake low fat yogurt             \n",
              "     whole.weat.flour yams cottage.cheese energy.drink tomato.juice\n",
              "7495                                                               \n",
              "7496                                                               \n",
              "7497 green tea                                                     \n",
              "7498                                                               \n",
              "7499                                                               \n",
              "7500                                                               \n",
              "     low.fat.yogurt green.tea honey salad mineral.water salmon\n",
              "7495                                                          \n",
              "7496                                                          \n",
              "7497                                                          \n",
              "7498                                                          \n",
              "7499                                                          \n",
              "7500                                                          \n",
              "     antioxydant.juice frozen.smoothie spinach olive.oil\n",
              "7495                                           NA       \n",
              "7496                                           NA       \n",
              "7497                                           NA       \n",
              "7498                                           NA       \n",
              "7499                                           NA       \n",
              "7500                                           NA       "
            ],
            "text/latex": "A data.frame: 6 × 20\n\\begin{tabular}{r|llllllllllllllllllll}\n  & shrimp & almonds & avocado & vegetables.mix & green.grapes & whole.weat.flour & yams & cottage.cheese & energy.drink & tomato.juice & low.fat.yogurt & green.tea & honey & salad & mineral.water & salmon & antioxydant.juice & frozen.smoothie & spinach & olive.oil\\\\\n  & <chr> & <chr> & <chr> & <chr> & <chr> & <chr> & <chr> & <chr> & <chr> & <chr> & <chr> & <chr> & <chr> & <chr> & <chr> & <chr> & <chr> & <chr> & <chr> & <lgl>\\\\\n\\hline\n\t7495 & pancakes & light mayo        &             &                &           &           &  &  &  &  &  &  &  &  &  &  &  &  &  & NA\\\\\n\t7496 & butter   & light mayo        & fresh bread &                &           &           &  &  &  &  &  &  &  &  &  &  &  &  &  & NA\\\\\n\t7497 & burgers  & frozen vegetables & eggs        & french fries   & magazines & green tea &  &  &  &  &  &  &  &  &  &  &  &  &  & NA\\\\\n\t7498 & chicken  &                   &             &                &           &           &  &  &  &  &  &  &  &  &  &  &  &  &  & NA\\\\\n\t7499 & escalope & green tea         &             &                &           &           &  &  &  &  &  &  &  &  &  &  &  &  &  & NA\\\\\n\t7500 & eggs     & frozen smoothie   & yogurt cake & low fat yogurt &           &           &  &  &  &  &  &  &  &  &  &  &  &  &  & NA\\\\\n\\end{tabular}\n",
            "text/markdown": "\nA data.frame: 6 × 20\n\n| <!--/--> | shrimp &lt;chr&gt; | almonds &lt;chr&gt; | avocado &lt;chr&gt; | vegetables.mix &lt;chr&gt; | green.grapes &lt;chr&gt; | whole.weat.flour &lt;chr&gt; | yams &lt;chr&gt; | cottage.cheese &lt;chr&gt; | energy.drink &lt;chr&gt; | tomato.juice &lt;chr&gt; | low.fat.yogurt &lt;chr&gt; | green.tea &lt;chr&gt; | honey &lt;chr&gt; | salad &lt;chr&gt; | mineral.water &lt;chr&gt; | salmon &lt;chr&gt; | antioxydant.juice &lt;chr&gt; | frozen.smoothie &lt;chr&gt; | spinach &lt;chr&gt; | olive.oil &lt;lgl&gt; |\n|---|---|---|---|---|---|---|---|---|---|---|---|---|---|---|---|---|---|---|---|---|\n| 7495 | pancakes | light mayo        | <!----> | <!----> | <!----> | <!----> | <!----> | <!----> | <!----> | <!----> | <!----> | <!----> | <!----> | <!----> | <!----> | <!----> | <!----> | <!----> | <!----> | NA |\n| 7496 | butter   | light mayo        | fresh bread | <!----> | <!----> | <!----> | <!----> | <!----> | <!----> | <!----> | <!----> | <!----> | <!----> | <!----> | <!----> | <!----> | <!----> | <!----> | <!----> | NA |\n| 7497 | burgers  | frozen vegetables | eggs        | french fries   | magazines | green tea | <!----> | <!----> | <!----> | <!----> | <!----> | <!----> | <!----> | <!----> | <!----> | <!----> | <!----> | <!----> | <!----> | NA |\n| 7498 | chicken  | <!----> | <!----> | <!----> | <!----> | <!----> | <!----> | <!----> | <!----> | <!----> | <!----> | <!----> | <!----> | <!----> | <!----> | <!----> | <!----> | <!----> | <!----> | NA |\n| 7499 | escalope | green tea         | <!----> | <!----> | <!----> | <!----> | <!----> | <!----> | <!----> | <!----> | <!----> | <!----> | <!----> | <!----> | <!----> | <!----> | <!----> | <!----> | <!----> | NA |\n| 7500 | eggs     | frozen smoothie   | yogurt cake | low fat yogurt | <!----> | <!----> | <!----> | <!----> | <!----> | <!----> | <!----> | <!----> | <!----> | <!----> | <!----> | <!----> | <!----> | <!----> | <!----> | NA |\n\n",
            "text/html": [
              "<table>\n",
              "<caption>A data.frame: 6 × 20</caption>\n",
              "<thead>\n",
              "\t<tr><th></th><th scope=col>shrimp</th><th scope=col>almonds</th><th scope=col>avocado</th><th scope=col>vegetables.mix</th><th scope=col>green.grapes</th><th scope=col>whole.weat.flour</th><th scope=col>yams</th><th scope=col>cottage.cheese</th><th scope=col>energy.drink</th><th scope=col>tomato.juice</th><th scope=col>low.fat.yogurt</th><th scope=col>green.tea</th><th scope=col>honey</th><th scope=col>salad</th><th scope=col>mineral.water</th><th scope=col>salmon</th><th scope=col>antioxydant.juice</th><th scope=col>frozen.smoothie</th><th scope=col>spinach</th><th scope=col>olive.oil</th></tr>\n",
              "\t<tr><th></th><th scope=col>&lt;chr&gt;</th><th scope=col>&lt;chr&gt;</th><th scope=col>&lt;chr&gt;</th><th scope=col>&lt;chr&gt;</th><th scope=col>&lt;chr&gt;</th><th scope=col>&lt;chr&gt;</th><th scope=col>&lt;chr&gt;</th><th scope=col>&lt;chr&gt;</th><th scope=col>&lt;chr&gt;</th><th scope=col>&lt;chr&gt;</th><th scope=col>&lt;chr&gt;</th><th scope=col>&lt;chr&gt;</th><th scope=col>&lt;chr&gt;</th><th scope=col>&lt;chr&gt;</th><th scope=col>&lt;chr&gt;</th><th scope=col>&lt;chr&gt;</th><th scope=col>&lt;chr&gt;</th><th scope=col>&lt;chr&gt;</th><th scope=col>&lt;chr&gt;</th><th scope=col>&lt;lgl&gt;</th></tr>\n",
              "</thead>\n",
              "<tbody>\n",
              "\t<tr><th scope=row>7495</th><td>pancakes</td><td>light mayo       </td><td>           </td><td>              </td><td>         </td><td>         </td><td></td><td></td><td></td><td></td><td></td><td></td><td></td><td></td><td></td><td></td><td></td><td></td><td></td><td>NA</td></tr>\n",
              "\t<tr><th scope=row>7496</th><td>butter  </td><td>light mayo       </td><td>fresh bread</td><td>              </td><td>         </td><td>         </td><td></td><td></td><td></td><td></td><td></td><td></td><td></td><td></td><td></td><td></td><td></td><td></td><td></td><td>NA</td></tr>\n",
              "\t<tr><th scope=row>7497</th><td>burgers </td><td>frozen vegetables</td><td>eggs       </td><td>french fries  </td><td>magazines</td><td>green tea</td><td></td><td></td><td></td><td></td><td></td><td></td><td></td><td></td><td></td><td></td><td></td><td></td><td></td><td>NA</td></tr>\n",
              "\t<tr><th scope=row>7498</th><td>chicken </td><td>                 </td><td>           </td><td>              </td><td>         </td><td>         </td><td></td><td></td><td></td><td></td><td></td><td></td><td></td><td></td><td></td><td></td><td></td><td></td><td></td><td>NA</td></tr>\n",
              "\t<tr><th scope=row>7499</th><td>escalope</td><td>green tea        </td><td>           </td><td>              </td><td>         </td><td>         </td><td></td><td></td><td></td><td></td><td></td><td></td><td></td><td></td><td></td><td></td><td></td><td></td><td></td><td>NA</td></tr>\n",
              "\t<tr><th scope=row>7500</th><td>eggs    </td><td>frozen smoothie  </td><td>yogurt cake</td><td>low fat yogurt</td><td>         </td><td>         </td><td></td><td></td><td></td><td></td><td></td><td></td><td></td><td></td><td></td><td></td><td></td><td></td><td></td><td>NA</td></tr>\n",
              "</tbody>\n",
              "</table>\n"
            ]
          },
          "metadata": {
            "tags": []
          }
        }
      ]
    },
    {
      "cell_type": "markdown",
      "metadata": {
        "id": "bLKyHw_ycuYc"
      },
      "source": [
        "Confidence is an indication of how often the rule has been found to be true. \n",
        "Support is an indication of how frequently the item set appears in the dataset\n"
      ]
    },
    {
      "cell_type": "code",
      "metadata": {
        "id": "JS4V_qaMc5jY",
        "outputId": "3c5bf320-89b0-4cde-eb13-651aca28f793",
        "colab": {
          "base_uri": "https://localhost:8080/"
        }
      },
      "source": [
        "# Get the rules\n",
        "rules <- apriori(df_assoc, parameter = list(supp = 0.5, conf = 0.8,target = \"rules\",minlen=2))\n",
        "#rules <- sort(rules, by=\"lift\", decreasing=TRUE)"
      ],
      "execution_count": 19,
      "outputs": [
        {
          "output_type": "stream",
          "text": [
            "Warning message:\n",
            "“Column(s) 1, 2, 3, 4, 5, 6, 7, 8, 9, 10, 11, 12, 13, 14, 15, 16, 17, 18, 19 not logical or factor. Applying default discretization (see '? discretizeDF').”\n"
          ],
          "name": "stderr"
        },
        {
          "output_type": "stream",
          "text": [
            "Apriori\n",
            "\n",
            "Parameter specification:\n",
            " confidence minval smax arem  aval originalSupport maxtime support minlen\n",
            "        0.8    0.1    1 none FALSE            TRUE       5     0.5      2\n",
            " maxlen target  ext\n",
            "     10  rules TRUE\n",
            "\n",
            "Algorithmic control:\n",
            " filter tree heap memopt load sort verbose\n",
            "    0.1 TRUE TRUE  FALSE TRUE    2    TRUE\n",
            "\n",
            "Absolute minimum support count: 3750 \n",
            "\n",
            "set item appearances ...[0 item(s)] done [0.00s].\n",
            "set transactions ...[1280 item(s), 7500 transaction(s)] done [0.05s].\n",
            "sorting and recoding items ... [16 item(s)] done [0.00s].\n",
            "creating transaction tree ... done [0.00s].\n",
            "checking subsets of size 1 2 3 4 5 6 7 8 9 10"
          ],
          "name": "stdout"
        },
        {
          "output_type": "stream",
          "text": [
            "Warning message in apriori(df_assoc, parameter = list(supp = 0.5, conf = 0.8, target = \"rules\", :\n",
            "“Mining stopped (maxlen reached). Only patterns up to a length of 10 returned!”\n"
          ],
          "name": "stderr"
        },
        {
          "output_type": "stream",
          "text": [
            " done [0.02s].\n",
            "writing ... [425218 rule(s)] done [0.12s].\n",
            "creating S4 object  ... done [0.36s].\n"
          ],
          "name": "stdout"
        }
      ]
    },
    {
      "cell_type": "markdown",
      "metadata": {
        "id": "pT0IMxoSdAgP"
      },
      "source": [
        "Explore the model i.e. the size of rules"
      ]
    },
    {
      "cell_type": "code",
      "metadata": {
        "id": "AezTsp6cdDBf",
        "outputId": "d731e3ad-9142-4993-8b0a-11f63ba34c89",
        "colab": {
          "base_uri": "https://localhost:8080/",
          "height": 515
        }
      },
      "source": [
        "summary(rules)"
      ],
      "execution_count": 20,
      "outputs": [
        {
          "output_type": "display_data",
          "data": {
            "text/plain": [
              "set of 425218 rules\n",
              "\n",
              "rule length distribution (lhs + rhs):sizes\n",
              "    2     3     4     5     6     7     8     9    10 \n",
              "  204  1478  6576 20134 45002 75943 98616 99417 77848 \n",
              "\n",
              "   Min. 1st Qu.  Median    Mean 3rd Qu.    Max. \n",
              "  2.000   7.000   8.000   7.986   9.000  10.000 \n",
              "\n",
              "summary of quality measures:\n",
              "    support         confidence        coverage           lift      \n",
              " Min.   :0.5541   Min.   :0.8108   Min.   :0.5541   Min.   :1.000  \n",
              " 1st Qu.:0.5541   1st Qu.:1.0000   1st Qu.:0.5541   1st Qu.:1.001  \n",
              " Median :0.6629   Median :1.0000   Median :0.6629   Median :1.021  \n",
              " Mean   :0.6455   Mean   :0.9882   Mean   :0.6545   Mean   :1.095  \n",
              " 3rd Qu.:0.7516   3rd Qu.:1.0000   3rd Qu.:0.7516   3rd Qu.:1.150  \n",
              " Max.   :0.9996   Max.   :1.0000   Max.   :0.9997   Max.   :1.508  \n",
              "     count     \n",
              " Min.   :4156  \n",
              " 1st Qu.:4156  \n",
              " Median :4972  \n",
              " Mean   :4841  \n",
              " 3rd Qu.:5637  \n",
              " Max.   :7497  \n",
              "\n",
              "mining info:\n",
              "     data ntransactions support confidence\n",
              " df_assoc          7500     0.5        0.8"
            ]
          },
          "metadata": {
            "tags": []
          }
        }
      ]
    },
    {
      "cell_type": "markdown",
      "metadata": {
        "id": "CvEkuBS6dKFY"
      },
      "source": [
        "Model has 2109165 rules from 7500 transactions if minimum support of 0.04 is specified.\n",
        "\n",
        "The rules reduce to 425231 when minimum support is increased to 0.5. This is preffered to prevent persistent session crashes due to too many rules.\n",
        "\n",
        "when minlen=2 parameter is applied to eliminate the products whose LHS is blank, the rules are reduced to 425218"
      ]
    },
    {
      "cell_type": "markdown",
      "metadata": {
        "id": "bn9lDIopdNbn"
      },
      "source": [
        "Show top 5 rules"
      ]
    },
    {
      "cell_type": "code",
      "metadata": {
        "id": "WGjVpPPcdU7g",
        "outputId": "0dfa3adf-f8cc-49f9-ca42-947202eb25f0",
        "colab": {
          "base_uri": "https://localhost:8080/"
        }
      },
      "source": [
        "# Show the top 3 rules, but only 2 digits.\n",
        "#options(digits=2)\n",
        "inspect(rules[1:20])"
      ],
      "execution_count": 21,
      "outputs": [
        {
          "output_type": "stream",
          "text": [
            "     lhs                    rhs                  support   confidence coverage \n",
            "[1]  {vegetables.mix=}   => {green.grapes=}      0.5541333 1.0000000  0.5541333\n",
            "[2]  {green.grapes=}     => {vegetables.mix=}    0.5541333 0.8358809  0.6629333\n",
            "[3]  {vegetables.mix=}   => {whole.weat.flour=}  0.5541333 1.0000000  0.5541333\n",
            "[4]  {vegetables.mix=}   => {yams=}              0.5541333 1.0000000  0.5541333\n",
            "[5]  {vegetables.mix=}   => {cottage.cheese=}    0.5541333 1.0000000  0.5541333\n",
            "[6]  {vegetables.mix=}   => {energy.drink=}      0.5541333 1.0000000  0.5541333\n",
            "[7]  {vegetables.mix=}   => {tomato.juice=}      0.5541333 1.0000000  0.5541333\n",
            "[8]  {vegetables.mix=}   => {low.fat.yogurt=}    0.5541333 1.0000000  0.5541333\n",
            "[9]  {vegetables.mix=}   => {green.tea=}         0.5541333 1.0000000  0.5541333\n",
            "[10] {vegetables.mix=}   => {honey=}             0.5541333 1.0000000  0.5541333\n",
            "[11] {vegetables.mix=}   => {salad=}             0.5541333 1.0000000  0.5541333\n",
            "[12] {vegetables.mix=}   => {mineral.water=}     0.5541333 1.0000000  0.5541333\n",
            "[13] {vegetables.mix=}   => {salmon=}            0.5541333 1.0000000  0.5541333\n",
            "[14] {vegetables.mix=}   => {antioxydant.juice=} 0.5541333 1.0000000  0.5541333\n",
            "[15] {vegetables.mix=}   => {frozen.smoothie=}   0.5541333 1.0000000  0.5541333\n",
            "[16] {vegetables.mix=}   => {spinach=}           0.5541333 1.0000000  0.5541333\n",
            "[17] {green.grapes=}     => {whole.weat.flour=}  0.6629333 1.0000000  0.6629333\n",
            "[18] {whole.weat.flour=} => {green.grapes=}      0.6629333 0.8820294  0.7516000\n",
            "[19] {green.grapes=}     => {yams=}              0.6629333 1.0000000  0.6629333\n",
            "[20] {yams=}             => {green.grapes=}      0.6629333 0.8108284  0.8176000\n",
            "     lift     count\n",
            "[1]  1.508447 4156 \n",
            "[2]  1.508447 4156 \n",
            "[3]  1.330495 4156 \n",
            "[4]  1.223092 4156 \n",
            "[5]  1.150307 4156 \n",
            "[6]  1.095370 4156 \n",
            "[7]  1.055446 4156 \n",
            "[8]  1.035197 4156 \n",
            "[9]  1.020825 4156 \n",
            "[10] 1.011600 4156 \n",
            "[11] 1.006171 4156 \n",
            "[12] 1.003210 4156 \n",
            "[13] 1.000934 4156 \n",
            "[14] 1.000400 4156 \n",
            "[15] 1.000400 4156 \n",
            "[16] 1.000267 4156 \n",
            "[17] 1.330495 4972 \n",
            "[18] 1.330495 4972 \n",
            "[19] 1.223092 4972 \n",
            "[20] 1.223092 4972 \n"
          ],
          "name": "stdout"
        }
      ]
    },
    {
      "cell_type": "markdown",
      "metadata": {
        "id": "dU0xaJ4PdcQR"
      },
      "source": [
        "If someone buys vegetables.mix, they are 100% likely to buy green.grapes too.\n",
        "\n",
        "If someon buys yams, they are 81% likely to buy green.grapes."
      ]
    }
  ]
}