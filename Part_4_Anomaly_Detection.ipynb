{
  "nbformat": 4,
  "nbformat_minor": 0,
  "metadata": {
    "kernelspec": {
      "display_name": "R",
      "language": "R",
      "name": "ir"
    },
    "language_info": {
      "codemirror_mode": "r",
      "file_extension": ".r",
      "mimetype": "text/x-r-source",
      "name": "R",
      "pygments_lexer": "r",
      "version": "3.6.1"
    },
    "colab": {
      "name": "Part 4: Anomaly Detection",
      "provenance": [],
      "include_colab_link": true
    }
  },
  "cells": [
    {
      "cell_type": "markdown",
      "metadata": {
        "id": "view-in-github",
        "colab_type": "text"
      },
      "source": [
        "<a href=\"https://colab.research.google.com/github/morreh89/Carrefour-Kenya-unsupervised-learning-techniques/blob/main/Part_4_Anomaly_Detection.ipynb\" target=\"_parent\"><img src=\"https://colab.research.google.com/assets/colab-badge.svg\" alt=\"Open In Colab\"/></a>"
      ]
    },
    {
      "cell_type": "markdown",
      "metadata": {
        "id": "2CRNksmqjA_C"
      },
      "source": [
        "# Part 4: Anomaly Detection\n",
        "You have also been requested to check whether there are any anomalies in the given sales dataset. The objective of this task being fraud detection."
      ]
    },
    {
      "cell_type": "code",
      "metadata": {
        "id": "X3692TPcsJ6J",
        "outputId": "9e41bbcb-2863-45f0-93f7-7ba2b55143aa",
        "colab": {
          "base_uri": "https://localhost:8080/"
        }
      },
      "source": [
        "#loading packages\n",
        "install.packages(\"factoextra\")\n",
        "library (anomalize)\n",
        "library(factoextra)\n",
        "install.packages(\"tibble\")\n",
        "library(tibble)\n",
        "install.packages(\"tidyverse\")\n",
        "library(tidyverse)\n"
      ],
      "execution_count": 39,
      "outputs": [
        {
          "output_type": "stream",
          "text": [
            "Installing package into ‘/usr/local/lib/R/site-library’\n",
            "(as ‘lib’ is unspecified)\n",
            "\n"
          ],
          "name": "stderr"
        }
      ]
    },
    {
      "cell_type": "code",
      "metadata": {
        "id": "7dfhfi1bjA_I",
        "outputId": "508376b9-8085-437a-d201-06583bc430f4",
        "colab": {
          "base_uri": "https://localhost:8080/",
          "height": 199
        }
      },
      "source": [
        "# loading the dataset\n",
        "df <- read.csv(\"Supermarket_Sales4.csv\")\n",
        "head(df)"
      ],
      "execution_count": 41,
      "outputs": [
        {
          "output_type": "display_data",
          "data": {
            "text/plain": [
              "  Date      Sales   \n",
              "1 1/5/2019  548.9715\n",
              "2 3/8/2019   80.2200\n",
              "3 3/3/2019  340.5255\n",
              "4 1/27/2019 489.0480\n",
              "5 2/8/2019  634.3785\n",
              "6 3/25/2019 627.6165"
            ],
            "text/latex": "A data.frame: 6 × 2\n\\begin{tabular}{r|ll}\n  & Date & Sales\\\\\n  & <chr> & <dbl>\\\\\n\\hline\n\t1 & 1/5/2019  & 548.9715\\\\\n\t2 & 3/8/2019  &  80.2200\\\\\n\t3 & 3/3/2019  & 340.5255\\\\\n\t4 & 1/27/2019 & 489.0480\\\\\n\t5 & 2/8/2019  & 634.3785\\\\\n\t6 & 3/25/2019 & 627.6165\\\\\n\\end{tabular}\n",
            "text/markdown": "\nA data.frame: 6 × 2\n\n| <!--/--> | Date &lt;chr&gt; | Sales &lt;dbl&gt; |\n|---|---|---|\n| 1 | 1/5/2019  | 548.9715 |\n| 2 | 3/8/2019  |  80.2200 |\n| 3 | 3/3/2019  | 340.5255 |\n| 4 | 1/27/2019 | 489.0480 |\n| 5 | 2/8/2019  | 634.3785 |\n| 6 | 3/25/2019 | 627.6165 |\n\n",
            "text/html": [
              "<table>\n",
              "<caption>A data.frame: 6 × 2</caption>\n",
              "<thead>\n",
              "\t<tr><th></th><th scope=col>Date</th><th scope=col>Sales</th></tr>\n",
              "\t<tr><th></th><th scope=col>&lt;chr&gt;</th><th scope=col>&lt;dbl&gt;</th></tr>\n",
              "</thead>\n",
              "<tbody>\n",
              "\t<tr><th scope=row>1</th><td>1/5/2019 </td><td>548.9715</td></tr>\n",
              "\t<tr><th scope=row>2</th><td>3/8/2019 </td><td> 80.2200</td></tr>\n",
              "\t<tr><th scope=row>3</th><td>3/3/2019 </td><td>340.5255</td></tr>\n",
              "\t<tr><th scope=row>4</th><td>1/27/2019</td><td>489.0480</td></tr>\n",
              "\t<tr><th scope=row>5</th><td>2/8/2019 </td><td>634.3785</td></tr>\n",
              "\t<tr><th scope=row>6</th><td>3/25/2019</td><td>627.6165</td></tr>\n",
              "</tbody>\n",
              "</table>\n"
            ]
          },
          "metadata": {
            "tags": []
          }
        }
      ]
    },
    {
      "cell_type": "code",
      "metadata": {
        "id": "RIRJHlH4t3d9",
        "outputId": "44aeaff5-de90-49e0-d0ad-a66c4c695ef8",
        "colab": {
          "base_uri": "https://localhost:8080/",
          "height": 34
        }
      },
      "source": [
        "#check the data types of the two columns\n",
        "sapply(df, class)"
      ],
      "execution_count": 42,
      "outputs": [
        {
          "output_type": "display_data",
          "data": {
            "text/plain": [
              "       Date       Sales \n",
              "\"character\"   \"numeric\" "
            ],
            "text/latex": "\\begin{description*}\n\\item[Date] 'character'\n\\item[Sales] 'numeric'\n\\end{description*}\n",
            "text/markdown": "Date\n:   'character'Sales\n:   'numeric'\n\n",
            "text/html": [
              "<style>\n",
              ".dl-inline {width: auto; margin:0; padding: 0}\n",
              ".dl-inline>dt, .dl-inline>dd {float: none; width: auto; display: inline-block}\n",
              ".dl-inline>dt::after {content: \":\\0020\"; padding-right: .5ex}\n",
              ".dl-inline>dt:not(:first-of-type) {padding-left: .5ex}\n",
              "</style><dl class=dl-inline><dt>Date</dt><dd>'character'</dd><dt>Sales</dt><dd>'numeric'</dd></dl>\n"
            ]
          },
          "metadata": {
            "tags": []
          }
        }
      ]
    },
    {
      "cell_type": "code",
      "metadata": {
        "id": "onsVMDMSuBvn",
        "outputId": "2264d702-8e34-4e38-c83b-6dc814746d00",
        "colab": {
          "base_uri": "https://localhost:8080/",
          "height": 34
        }
      },
      "source": [
        "#convert the date datatype from factor to date\n",
        "df$Date <- as.Date(df$Date)\n",
        "sapply(df, class)"
      ],
      "execution_count": 43,
      "outputs": [
        {
          "output_type": "display_data",
          "data": {
            "text/plain": [
              "     Date     Sales \n",
              "   \"Date\" \"numeric\" "
            ],
            "text/latex": "\\begin{description*}\n\\item[Date] 'Date'\n\\item[Sales] 'numeric'\n\\end{description*}\n",
            "text/markdown": "Date\n:   'Date'Sales\n:   'numeric'\n\n",
            "text/html": [
              "<style>\n",
              ".dl-inline {width: auto; margin:0; padding: 0}\n",
              ".dl-inline>dt, .dl-inline>dd {float: none; width: auto; display: inline-block}\n",
              ".dl-inline>dt::after {content: \":\\0020\"; padding-right: .5ex}\n",
              ".dl-inline>dt:not(:first-of-type) {padding-left: .5ex}\n",
              "</style><dl class=dl-inline><dt>Date</dt><dd>'Date'</dd><dt>Sales</dt><dd>'numeric'</dd></dl>\n"
            ]
          },
          "metadata": {
            "tags": []
          }
        }
      ]
    },
    {
      "cell_type": "code",
      "metadata": {
        "id": "vxOD0P5wuq3K",
        "outputId": "546da5c2-deae-418a-d631-4ed8d9ccf13e",
        "colab": {
          "base_uri": "https://localhost:8080/",
          "height": 199
        }
      },
      "source": [
        "#convert the dataframe to tibble\n",
        "Anoma_tb <- as_tibble(df)\n",
        "head(Anoma_tb)"
      ],
      "execution_count": 44,
      "outputs": [
        {
          "output_type": "display_data",
          "data": {
            "text/plain": [
              "  Date    Sales   \n",
              "1 1-05-20 548.9715\n",
              "2 3-08-20  80.2200\n",
              "3 3-03-20 340.5255\n",
              "4 <NA>    489.0480\n",
              "5 2-08-20 634.3785\n",
              "6 <NA>    627.6165"
            ],
            "text/latex": "A tibble: 6 × 2\n\\begin{tabular}{ll}\n Date & Sales\\\\\n <date> & <dbl>\\\\\n\\hline\n\t 1-05-20 & 548.9715\\\\\n\t 3-08-20 &  80.2200\\\\\n\t 3-03-20 & 340.5255\\\\\n\t NA & 489.0480\\\\\n\t 2-08-20 & 634.3785\\\\\n\t NA & 627.6165\\\\\n\\end{tabular}\n",
            "text/markdown": "\nA tibble: 6 × 2\n\n| Date &lt;date&gt; | Sales &lt;dbl&gt; |\n|---|---|\n| 1-05-20 | 548.9715 |\n| 3-08-20 |  80.2200 |\n| 3-03-20 | 340.5255 |\n| NA | 489.0480 |\n| 2-08-20 | 634.3785 |\n| NA | 627.6165 |\n\n",
            "text/html": [
              "<table>\n",
              "<caption>A tibble: 6 × 2</caption>\n",
              "<thead>\n",
              "\t<tr><th scope=col>Date</th><th scope=col>Sales</th></tr>\n",
              "\t<tr><th scope=col>&lt;date&gt;</th><th scope=col>&lt;dbl&gt;</th></tr>\n",
              "</thead>\n",
              "<tbody>\n",
              "\t<tr><td>1-05-20</td><td>548.9715</td></tr>\n",
              "\t<tr><td>3-08-20</td><td> 80.2200</td></tr>\n",
              "\t<tr><td>3-03-20</td><td>340.5255</td></tr>\n",
              "\t<tr><td>NA</td><td>489.0480</td></tr>\n",
              "\t<tr><td>2-08-20</td><td>634.3785</td></tr>\n",
              "\t<tr><td>NA</td><td>627.6165</td></tr>\n",
              "</tbody>\n",
              "</table>\n"
            ]
          },
          "metadata": {
            "tags": []
          }
        }
      ]
    },
    {
      "cell_type": "code",
      "metadata": {
        "id": "hhEoZtLwvlY_"
      },
      "source": [
        "Anoma_tb <- Anoma_tb %>%\n",
        "tibbletime::as_tbl_time(index = Date)"
      ],
      "execution_count": 45,
      "outputs": []
    },
    {
      "cell_type": "code",
      "metadata": {
        "id": "Z8eitytHvlMW",
        "outputId": "8ad5a168-a73f-452c-a9bb-7232062b7e26",
        "colab": {
          "base_uri": "https://localhost:8080/",
          "height": 950
        }
      },
      "source": [
        "Anoma_tb %>%\n",
        "time_decompose(Date)%>%\n",
        "anomalize(remainder)%>%\n",
        "time_recompose()%>%\n",
        "plot_anomalies(time_recomposed = TRUE, ncol = 3, alpha_dots = 0.5)"
      ],
      "execution_count": 46,
      "outputs": [
        {
          "output_type": "error",
          "ename": "ERROR",
          "evalue": "ignored",
          "traceback": [
            "Error: `nm` must be `NULL` or a character vector the same length as `x`\nTraceback:\n",
            "1. Anoma_tb %>% time_decompose(Date) %>% anomalize(remainder) %>% \n .     time_recompose() %>% plot_anomalies(time_recomposed = TRUE, \n .     ncol = 3, alpha_dots = 0.5)",
            "2. withVisible(eval(quote(`_fseq`(`_lhs`)), env, env))",
            "3. eval(quote(`_fseq`(`_lhs`)), env, env)",
            "4. eval(quote(`_fseq`(`_lhs`)), env, env)",
            "5. `_fseq`(`_lhs`)",
            "6. freduce(value, `_function_list`)",
            "7. function_list[[i]](value)",
            "8. time_decompose(., Date)",
            "9. time_decompose.tbl_time(., Date)",
            "10. data %>% decompose_stl(!!target_expr, frequency = frequency, \n  .     trend = trend, message = message, ...)",
            "11. withVisible(eval(quote(`_fseq`(`_lhs`)), env, env))",
            "12. eval(quote(`_fseq`(`_lhs`)), env, env)",
            "13. eval(quote(`_fseq`(`_lhs`)), env, env)",
            "14. `_fseq`(`_lhs`)",
            "15. freduce(value, `_function_list`)",
            "16. withVisible(function_list[[k]](value))",
            "17. function_list[[k]](value)",
            "18. decompose_stl(., !!target_expr, frequency = frequency, trend = trend, \n  .     message = message, ...)",
            "19. time_frequency(data, period = frequency, message = message)",
            "20. data %>% tibbletime::get_index_col() %>% timetk::tk_get_timeseries_summary()",
            "21. withVisible(eval(quote(`_fseq`(`_lhs`)), env, env))",
            "22. eval(quote(`_fseq`(`_lhs`)), env, env)",
            "23. eval(quote(`_fseq`(`_lhs`)), env, env)",
            "24. `_fseq`(`_lhs`)",
            "25. freduce(value, `_function_list`)",
            "26. withVisible(function_list[[k]](value))",
            "27. function_list[[k]](value)",
            "28. timetk::tk_get_timeseries_summary(.)",
            "29. tk_get_timeseries_summary.Date(.)",
            "30. get_timeseries_summary_date(idx)",
            "31. idx_diff %>% summary() %>% as.list() %>% purrr::set_names(c(\"diff.minimum\", \n  .     \"diff.q1\", \"diff.median\", \"diff.mean\", \"diff.q3\", \"diff.maximum\")) %>% \n  .     purrr::map_df(~.x)",
            "32. withVisible(eval(quote(`_fseq`(`_lhs`)), env, env))",
            "33. eval(quote(`_fseq`(`_lhs`)), env, env)",
            "34. eval(quote(`_fseq`(`_lhs`)), env, env)",
            "35. `_fseq`(`_lhs`)",
            "36. freduce(value, `_function_list`)",
            "37. function_list[[i]](value)",
            "38. purrr::set_names(., c(\"diff.minimum\", \"diff.q1\", \"diff.median\", \n  .     \"diff.mean\", \"diff.q3\", \"diff.maximum\"))",
            "39. rlang::abort(x)",
            "40. signal_abort(cnd)"
          ]
        }
      ]
    }
  ]
}