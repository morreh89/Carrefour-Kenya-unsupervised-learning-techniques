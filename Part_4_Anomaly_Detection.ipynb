{
  "nbformat": 4,
  "nbformat_minor": 0,
  "metadata": {
    "kernelspec": {
      "display_name": "R",
      "language": "R",
      "name": "ir"
    },
    "language_info": {
      "codemirror_mode": "r",
      "file_extension": ".r",
      "mimetype": "text/x-r-source",
      "name": "R",
      "pygments_lexer": "r",
      "version": "3.6.1"
    },
    "colab": {
      "name": "Part 4: Anomaly Detection",
      "provenance": [],
      "include_colab_link": true
    }
  },
  "cells": [
    {
      "cell_type": "markdown",
      "metadata": {
        "id": "view-in-github",
        "colab_type": "text"
      },
      "source": [
        "<a href=\"https://colab.research.google.com/github/morreh89/Carrefour-Kenya-unsupervised-learning-techniques/blob/main/Part_4_Anomaly_Detection.ipynb\" target=\"_parent\"><img src=\"https://colab.research.google.com/assets/colab-badge.svg\" alt=\"Open In Colab\"/></a>"
      ]
    },
    {
      "cell_type": "markdown",
      "metadata": {
        "id": "2CRNksmqjA_C"
      },
      "source": [
        "# Part 4: Anomaly Detection\n",
        "You have also been requested to check whether there are any anomalies in the given sales dataset. The objective of this task being fraud detection."
      ]
    },
    {
      "cell_type": "code",
      "metadata": {
        "id": "7dfhfi1bjA_I",
        "outputId": "66be1575-d8e3-4a79-840e-5b6d18d6b4ba",
        "colab": {
          "base_uri": "https://localhost:8080/",
          "height": 199
        }
      },
      "source": [
        "# loading the dataset\n",
        "df <- read.csv(\"Supermarket_Sales4.csv\")\n",
        "head(df)"
      ],
      "execution_count": 3,
      "outputs": [
        {
          "output_type": "display_data",
          "data": {
            "text/plain": [
              "  Date      Sales   \n",
              "1 1/5/2019  548.9715\n",
              "2 3/8/2019   80.2200\n",
              "3 3/3/2019  340.5255\n",
              "4 1/27/2019 489.0480\n",
              "5 2/8/2019  634.3785\n",
              "6 3/25/2019 627.6165"
            ],
            "text/latex": "A data.frame: 6 × 2\n\\begin{tabular}{r|ll}\n  & Date & Sales\\\\\n  & <chr> & <dbl>\\\\\n\\hline\n\t1 & 1/5/2019  & 548.9715\\\\\n\t2 & 3/8/2019  &  80.2200\\\\\n\t3 & 3/3/2019  & 340.5255\\\\\n\t4 & 1/27/2019 & 489.0480\\\\\n\t5 & 2/8/2019  & 634.3785\\\\\n\t6 & 3/25/2019 & 627.6165\\\\\n\\end{tabular}\n",
            "text/markdown": "\nA data.frame: 6 × 2\n\n| <!--/--> | Date &lt;chr&gt; | Sales &lt;dbl&gt; |\n|---|---|---|\n| 1 | 1/5/2019  | 548.9715 |\n| 2 | 3/8/2019  |  80.2200 |\n| 3 | 3/3/2019  | 340.5255 |\n| 4 | 1/27/2019 | 489.0480 |\n| 5 | 2/8/2019  | 634.3785 |\n| 6 | 3/25/2019 | 627.6165 |\n\n",
            "text/html": [
              "<table>\n",
              "<caption>A data.frame: 6 × 2</caption>\n",
              "<thead>\n",
              "\t<tr><th></th><th scope=col>Date</th><th scope=col>Sales</th></tr>\n",
              "\t<tr><th></th><th scope=col>&lt;chr&gt;</th><th scope=col>&lt;dbl&gt;</th></tr>\n",
              "</thead>\n",
              "<tbody>\n",
              "\t<tr><th scope=row>1</th><td>1/5/2019 </td><td>548.9715</td></tr>\n",
              "\t<tr><th scope=row>2</th><td>3/8/2019 </td><td> 80.2200</td></tr>\n",
              "\t<tr><th scope=row>3</th><td>3/3/2019 </td><td>340.5255</td></tr>\n",
              "\t<tr><th scope=row>4</th><td>1/27/2019</td><td>489.0480</td></tr>\n",
              "\t<tr><th scope=row>5</th><td>2/8/2019 </td><td>634.3785</td></tr>\n",
              "\t<tr><th scope=row>6</th><td>3/25/2019</td><td>627.6165</td></tr>\n",
              "</tbody>\n",
              "</table>\n"
            ]
          },
          "metadata": {
            "tags": []
          }
        }
      ]
    },
    {
      "cell_type": "code",
      "metadata": {
        "id": "RIRJHlH4t3d9",
        "outputId": "68b6972e-c2b0-45ac-afb5-0aaa17139124",
        "colab": {
          "base_uri": "https://localhost:8080/",
          "height": 34
        }
      },
      "source": [
        "#check the data types of the two columns\n",
        "sapply(df, class)"
      ],
      "execution_count": 4,
      "outputs": [
        {
          "output_type": "display_data",
          "data": {
            "text/plain": [
              "       Date       Sales \n",
              "\"character\"   \"numeric\" "
            ],
            "text/latex": "\\begin{description*}\n\\item[Date] 'character'\n\\item[Sales] 'numeric'\n\\end{description*}\n",
            "text/markdown": "Date\n:   'character'Sales\n:   'numeric'\n\n",
            "text/html": [
              "<style>\n",
              ".dl-inline {width: auto; margin:0; padding: 0}\n",
              ".dl-inline>dt, .dl-inline>dd {float: none; width: auto; display: inline-block}\n",
              ".dl-inline>dt::after {content: \":\\0020\"; padding-right: .5ex}\n",
              ".dl-inline>dt:not(:first-of-type) {padding-left: .5ex}\n",
              "</style><dl class=dl-inline><dt>Date</dt><dd>'character'</dd><dt>Sales</dt><dd>'numeric'</dd></dl>\n"
            ]
          },
          "metadata": {
            "tags": []
          }
        }
      ]
    },
    {
      "cell_type": "code",
      "metadata": {
        "id": "sbfgnvsNeUoJ"
      },
      "source": [
        "df$Date <- as.POSIXct(df$Date, \"%m-%d-%Y\",tz = \"GMT\")\n"
      ],
      "execution_count": 15,
      "outputs": []
    },
    {
      "cell_type": "code",
      "metadata": {
        "id": "OuKSHQOVcbbe"
      },
      "source": [
        "#Extracting the day and month from date and converting day to numeric\n",
        "\n",
        "df$day <- format(df$Date, \"%d\")\n",
        "df$month <- format(df$Date, \"%m\")\n",
        "df$day <- as.numeric(df$day)"
      ],
      "execution_count": 25,
      "outputs": []
    },
    {
      "cell_type": "code",
      "metadata": {
        "id": "onsVMDMSuBvn"
      },
      "source": [
        "#convert the date datatype from factor to date\n",
        "monthly_df <- df %>%\n",
        "group_by(Date,month) %>% summarise_at(vars(Sales),funs(sum(.,na.rm=TRUE)))\n"
      ],
      "execution_count": 26,
      "outputs": []
    },
    {
      "cell_type": "code",
      "metadata": {
        "id": "vxOD0P5wuq3K",
        "outputId": "66faa16e-2271-4100-a6ef-2481a5c7cfc9",
        "colab": {
          "base_uri": "https://localhost:8080/",
          "height": 97
        }
      },
      "source": [
        "#convert the monthly_df to tibble\n",
        "monthly_df <- as_tibble(monthly_df)\n",
        "head(monthly_df)"
      ],
      "execution_count": 28,
      "outputs": [
        {
          "output_type": "display_data",
          "data": {
            "text/plain": [
              "  Date month Sales   \n",
              "1 <NA> NA    322966.7"
            ],
            "text/latex": "A tibble: 1 × 3\n\\begin{tabular}{lll}\n Date & month & Sales\\\\\n <dttm> & <chr> & <dbl>\\\\\n\\hline\n\t NA & NA & 322966.7\\\\\n\\end{tabular}\n",
            "text/markdown": "\nA tibble: 1 × 3\n\n| Date &lt;dttm&gt; | month &lt;chr&gt; | Sales &lt;dbl&gt; |\n|---|---|---|\n| NA | NA | 322966.7 |\n\n",
            "text/html": [
              "<table>\n",
              "<caption>A tibble: 1 × 3</caption>\n",
              "<thead>\n",
              "\t<tr><th scope=col>Date</th><th scope=col>month</th><th scope=col>Sales</th></tr>\n",
              "\t<tr><th scope=col>&lt;dttm&gt;</th><th scope=col>&lt;chr&gt;</th><th scope=col>&lt;dbl&gt;</th></tr>\n",
              "</thead>\n",
              "<tbody>\n",
              "\t<tr><td>NA</td><td>NA</td><td>322966.7</td></tr>\n",
              "</tbody>\n",
              "</table>\n"
            ]
          },
          "metadata": {
            "tags": []
          }
        }
      ]
    },
    {
      "cell_type": "code",
      "metadata": {
        "id": "hhEoZtLwvlY_"
      },
      "source": [
        "#Detecting Anomalies in monthly sales\n",
        "monthly_df %>%\n",
        "  time_decompose(Sales) %>%\n",
        "  anomalize(remainder) %>%\n",
        "  time_recompose() %>%\n",
        "  plot_anomalies(time_recomposed = TRUE, ncol = 3, alpha_dots = 0.5)"
      ],
      "execution_count": null,
      "outputs": []
    },
    {
      "cell_type": "code",
      "metadata": {
        "id": "Dey_j7xAY6su"
      },
      "source": [
        "# converting overall data to tibble\n",
        "df_tibble <- as_tibble(df)"
      ],
      "execution_count": 31,
      "outputs": []
    },
    {
      "cell_type": "code",
      "metadata": {
        "id": "X1w6F3xTY6o4"
      },
      "source": [
        "#Detecting Anomalies in the entire dataset\n",
        "df_tibble %>%\n",
        "    time_decompose(Sales) %>%\n",
        "    anomalize(remainder) %>%\n",
        "    time_recompose() %>%\n",
        "    plot_anomalies(time_recomposed = TRUE, ncol = 3, alpha_dots = 0.5)"
      ],
      "execution_count": null,
      "outputs": []
    }
  ]
}